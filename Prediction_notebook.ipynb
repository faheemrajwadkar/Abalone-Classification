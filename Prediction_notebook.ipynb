{
 "cells": [
  {
   "cell_type": "code",
   "execution_count": 26,
   "id": "0ce6f937-fd98-4af3-bda1-4866266594ba",
   "metadata": {},
   "outputs": [],
   "source": [
    "import pandas as pd\n",
    "import numpy as np\n",
    "import pickle"
   ]
  },
  {
   "cell_type": "code",
   "execution_count": 27,
   "id": "fe8d36d0-95c3-48ea-acca-ae8840f1b12b",
   "metadata": {},
   "outputs": [],
   "source": [
    "## max values -\n",
    "# df.height - 0.25\n",
    "# shucked_weight - 1.488000\n",
    "# shell_weight - 1.005000"
   ]
  },
  {
   "cell_type": "code",
   "execution_count": 28,
   "id": "757a05a5-bb8d-4f23-ae53-985084f449d7",
   "metadata": {},
   "outputs": [],
   "source": [
    "model = pickle.load(open('model.pkl', 'rb'))"
   ]
  },
  {
   "cell_type": "code",
   "execution_count": 29,
   "id": "7641da0a-be9c-4d26-8085-0b8cf317b7ef",
   "metadata": {},
   "outputs": [
    {
     "name": "stdin",
     "output_type": "stream",
     "text": [
      "Enter Height 0.2\n",
      "Enter Shucked Weight 0.7\n",
      "Enter Shell Weight 0.9\n",
      "Specify Sex [\"Male\", \"Female\", \"Infant\"] Infant\n"
     ]
    }
   ],
   "source": [
    "# input_features \n",
    "height = float(input(\"Enter Height\"))\n",
    "shucked_weight = float(input(\"Enter Shucked Weight\"))\n",
    "shell_weight = float(input(\"Enter Shell Weight\"))\n",
    "sex = input('Specify Sex [\"Male\", \"Female\", \"Infant\"]')"
   ]
  },
  {
   "cell_type": "code",
   "execution_count": 30,
   "id": "aa668112-e688-4a19-8ada-937557867cee",
   "metadata": {},
   "outputs": [
    {
     "data": {
      "text/plain": [
       "array(['const', 'height', 'shucked_weight', 'shell_weight', 'sex_I',\n",
       "       'sex_M'], dtype=object)"
      ]
     },
     "execution_count": 30,
     "metadata": {},
     "output_type": "execute_result"
    }
   ],
   "source": [
    "model.feature_names_in_"
   ]
  },
  {
   "cell_type": "code",
   "execution_count": 31,
   "id": "f72f1d50-7a23-4d3d-b6d4-b939e18e93d8",
   "metadata": {},
   "outputs": [],
   "source": [
    "def sex_mapper(sex):\n",
    "    if sex == 'Male':\n",
    "        return 0, 1\n",
    "    elif sex == 'Infant':\n",
    "        return 1, 0\n",
    "    else:\n",
    "        return 0, 0"
   ]
  },
  {
   "cell_type": "code",
   "execution_count": 32,
   "id": "7321bc09-9250-4981-a4e2-1a6c7728bbee",
   "metadata": {},
   "outputs": [
    {
     "data": {
      "text/plain": [
       "(1, 0)"
      ]
     },
     "execution_count": 32,
     "metadata": {},
     "output_type": "execute_result"
    }
   ],
   "source": [
    "sex_I, sex_M = sex_mapper(sex)\n",
    "sex_I, sex_M"
   ]
  },
  {
   "cell_type": "code",
   "execution_count": 33,
   "id": "4544de50-994d-4ab9-97ef-2089e56b74bd",
   "metadata": {},
   "outputs": [],
   "source": [
    "def create_features(height, shucked_weight, shell_weight, sex, model):\n",
    "    sex_I, sex_M = sex_mapper(sex)\n",
    "    input_features = pd.DataFrame(np.array([1.0, height, shucked_weight, shell_weight, sex_I, sex_M]).reshape(1, -1), \n",
    "                                  columns=model.feature_names_in_)\n",
    "    return input_features"
   ]
  },
  {
   "cell_type": "code",
   "execution_count": 35,
   "id": "0402fe98-b95f-45b6-bc47-a9da80554384",
   "metadata": {},
   "outputs": [],
   "source": [
    "input_features = create_features(height, shucked_weight, shell_weight, sex, model)\n",
    "prediction = model.predict(input_features)"
   ]
  },
  {
   "cell_type": "code",
   "execution_count": 36,
   "id": "2e04283d-b8a3-4787-a846-192d92d6ab8c",
   "metadata": {},
   "outputs": [],
   "source": [
    "def prediction_mapper(prediction):\n",
    "    if prediction == 0:\n",
    "        return \"The age of Abalone is 10 or less\"\n",
    "    else:\n",
    "        return \"The age of Abalone is over 10\""
   ]
  },
  {
   "cell_type": "code",
   "execution_count": 37,
   "id": "3d49f586-a94e-4d56-8e70-2662b0e068d9",
   "metadata": {},
   "outputs": [
    {
     "data": {
      "text/plain": [
       "'The age of Abalone is over 10'"
      ]
     },
     "execution_count": 37,
     "metadata": {},
     "output_type": "execute_result"
    }
   ],
   "source": [
    "prediction_mapper(prediction)"
   ]
  },
  {
   "cell_type": "code",
   "execution_count": null,
   "id": "76bd03fe-d819-4642-9c47-253121c9519f",
   "metadata": {},
   "outputs": [],
   "source": []
  }
 ],
 "metadata": {
  "kernelspec": {
   "display_name": "Python 3 (ipykernel)",
   "language": "python",
   "name": "python3"
  },
  "language_info": {
   "codemirror_mode": {
    "name": "ipython",
    "version": 3
   },
   "file_extension": ".py",
   "mimetype": "text/x-python",
   "name": "python",
   "nbconvert_exporter": "python",
   "pygments_lexer": "ipython3",
   "version": "3.7.0"
  }
 },
 "nbformat": 4,
 "nbformat_minor": 5
}
